{
 "cells": [
  {
   "cell_type": "code",
   "execution_count": 2,
   "metadata": {},
   "outputs": [],
   "source": [
    "import numpy as  np"
   ]
  },
  {
   "cell_type": "code",
   "execution_count": 2,
   "metadata": {},
   "outputs": [],
   "source": [
    "arr=np.array(10)"
   ]
  },
  {
   "cell_type": "code",
   "execution_count": 4,
   "metadata": {},
   "outputs": [
    {
     "name": "stdout",
     "output_type": "stream",
     "text": [
      "10\n"
     ]
    }
   ],
   "source": [
    "print(arr)"
   ]
  },
  {
   "cell_type": "code",
   "execution_count": 7,
   "metadata": {},
   "outputs": [
    {
     "name": "stdout",
     "output_type": "stream",
     "text": [
      "[1 2 3]\n"
     ]
    }
   ],
   "source": [
    "#1-D\n",
    "arr1=np.array([1,2,3])\n",
    "print(arr1)"
   ]
  },
  {
   "cell_type": "code",
   "execution_count": 9,
   "metadata": {},
   "outputs": [
    {
     "name": "stdout",
     "output_type": "stream",
     "text": [
      "[[1 2 3]\n",
      " [4 5 6]]\n"
     ]
    }
   ],
   "source": [
    "#2D\n",
    "arr2=np.array(\n",
    "    [\n",
    "    [1,2,3],[4,5,6]\n",
    "]\n",
    ")\n",
    "print(arr2)"
   ]
  },
  {
   "cell_type": "code",
   "execution_count": 18,
   "metadata": {},
   "outputs": [
    {
     "name": "stdout",
     "output_type": "stream",
     "text": [
      "[[[1 2 3]\n",
      "  [0 9 8]]\n",
      "\n",
      " [[4 5 6]\n",
      "  [5 5 5]]]\n",
      "Dimensionm= 3\n"
     ]
    }
   ],
   "source": [
    "#3D\n",
    "arr3=np.array(\n",
    "[\n",
    "    [\n",
    "        [1,2,3],\n",
    "        [0,9,8]\n",
    "    ],\n",
    "    [\n",
    "        [4,5,6],[5,5,5]\n",
    "    ]\n",
    "])\n",
    "print(arr3)\n",
    "#ndim=>numpy dimension\n",
    "print(\"Dimensionm=\",arr3.ndim)"
   ]
  },
  {
   "cell_type": "code",
   "execution_count": null,
   "metadata": {},
   "outputs": [],
   "source": []
  },
  {
   "cell_type": "code",
   "execution_count": null,
   "metadata": {},
   "outputs": [],
   "source": []
  },
  {
   "cell_type": "code",
   "execution_count": null,
   "metadata": {},
   "outputs": [],
   "source": []
  },
  {
   "cell_type": "code",
   "execution_count": null,
   "metadata": {},
   "outputs": [],
   "source": []
  },
  {
   "cell_type": "code",
   "execution_count": 20,
   "metadata": {},
   "outputs": [
    {
     "name": "stdout",
     "output_type": "stream",
     "text": [
      "[[[12 13 14]]]\n",
      "3\n"
     ]
    }
   ],
   "source": [
    "#ndmin=create dimenision\n",
    "dim=np.array([12,13,14],ndmin=3)\n",
    "print(dim)\n",
    "#ndim=3 so 3D array created\n",
    "print(dim.ndim)"
   ]
  },
  {
   "cell_type": "code",
   "execution_count": 22,
   "metadata": {},
   "outputs": [
    {
     "name": "stdout",
     "output_type": "stream",
     "text": [
      "12\n",
      "25\n"
     ]
    }
   ],
   "source": [
    "dim=np.array([12,13,14])\n",
    "print(dim[0])\n",
    "print(dim[0]+dim[1])\n",
    "\n",
    "#use [index] => for printing values "
   ]
  },
  {
   "cell_type": "code",
   "execution_count": 38,
   "metadata": {},
   "outputs": [
    {
     "name": "stdout",
     "output_type": "stream",
     "text": [
      "1\n",
      "4\n",
      "6\n",
      "[4 5]\n"
     ]
    }
   ],
   "source": [
    "#addition in 2D array\n",
    "arr2=np.array(\n",
    "    [\n",
    "    [1,2,3],[4,5,6]\n",
    "]\n",
    ")\n",
    "print(arr2[0,0])#array 1 ,0 index\n",
    "print(arr2[1,0])#2nd array , 0 index\n",
    "print(arr2[1,-1])\n",
    "#slicing\n",
    "print(arr2[1,0:-1])"
   ]
  },
  {
   "cell_type": "code",
   "execution_count": 39,
   "metadata": {},
   "outputs": [
    {
     "name": "stdout",
     "output_type": "stream",
     "text": [
      "<built-in method copy of numpy.ndarray object at 0x0000026DD8B97B20>\n"
     ]
    }
   ],
   "source": [
    "arr2=np.array(\n",
    "    [\n",
    "    [1,2,3],[4,5,6]\n",
    "]\n",
    ")\n",
    "\n",
    "a= arr2.copy\n",
    "print(a)"
   ]
  },
  {
   "cell_type": "code",
   "execution_count": 43,
   "metadata": {},
   "outputs": [
    {
     "name": "stdout",
     "output_type": "stream",
     "text": [
      "[1 2 3 4 5]\n"
     ]
    }
   ],
   "source": [
    "#base\n",
    "arr =np.array([1,2,3,4,5])\n",
    "x= arr.copy()\n",
    "y=arr.view()\n",
    "print(y.base)"
   ]
  },
  {
   "cell_type": "code",
   "execution_count": 45,
   "metadata": {},
   "outputs": [
    {
     "name": "stdout",
     "output_type": "stream",
     "text": [
      "(2, 3)\n"
     ]
    }
   ],
   "source": [
    "# shape\n",
    "arr2=np.array(\n",
    "    [\n",
    "    [1,2,3],[4,5,6]\n",
    "]\n",
    ")\n",
    "print(arr2.shape)"
   ]
  },
  {
   "cell_type": "code",
   "execution_count": 48,
   "metadata": {},
   "outputs": [
    {
     "name": "stdout",
     "output_type": "stream",
     "text": [
      "[[1 2]\n",
      " [3 4]\n",
      " [5 6]\n",
      " [7 8]\n",
      " [9 0]]\n"
     ]
    }
   ],
   "source": [
    "#reshape\n",
    "#1D to 2D\n",
    "arr=np.array([1,2,3,4,5,6,7,8,9,0])\n",
    "reshapearr=arr.reshape(5,2)#5 matrix with 2 elements\n",
    "print(reshapearr)\n"
   ]
  },
  {
   "cell_type": "code",
   "execution_count": 54,
   "metadata": {},
   "outputs": [
    {
     "name": "stdout",
     "output_type": "stream",
     "text": [
      "[[[ 1  2]\n",
      "  [ 3  4]]\n",
      "\n",
      " [[ 5  6]\n",
      "  [ 7  8]]\n",
      "\n",
      " [[ 9  0]\n",
      "  [11 12]]]\n"
     ]
    }
   ],
   "source": [
    "#1D to 3D\n",
    "arr=np.array([1,2,3,4,5,6,7,8,9,0,11,12])\n",
    "reshp=arr.reshape(3,2,2)#3 matrix with 2 sub matrix with 2 elements in it\n",
    "print(reshp)"
   ]
  },
  {
   "cell_type": "code",
   "execution_count": 59,
   "metadata": {},
   "outputs": [
    {
     "name": "stdout",
     "output_type": "stream",
     "text": [
      "[[[ 1  2  3]\n",
      "  [ 4  5  6]]\n",
      "\n",
      " [[ 7  8  9]\n",
      "  [ 0 11 12]]]\n"
     ]
    }
   ],
   "source": [
    "arr=np.array([1,2,3,4,5,6,7,8,9,0,11,12])\n",
    "shap=arr.reshape(2, 2, -1)\n",
    "print(shap)"
   ]
  },
  {
   "cell_type": "code",
   "execution_count": 62,
   "metadata": {},
   "outputs": [
    {
     "name": "stdout",
     "output_type": "stream",
     "text": [
      "[1 2 3 4 5 6]\n"
     ]
    }
   ],
   "source": [
    "#multi D to 1D\n",
    "arr2=np.array(\n",
    "    [\n",
    "    [1,2,3],[4,5,6]\n",
    "]\n",
    ")\n",
    "new=arr2.reshape(-1)\n",
    "print(new)"
   ]
  },
  {
   "cell_type": "code",
   "execution_count": 30,
   "metadata": {},
   "outputs": [
    {
     "name": "stdout",
     "output_type": "stream",
     "text": [
      "8\n"
     ]
    }
   ],
   "source": [
    "#3D array index\n",
    "arr3=np.array(\n",
    "[\n",
    "    [\n",
    "        [1,2,3],\n",
    "        [0,9,8]\n",
    "    ],\n",
    "    [\n",
    "        [4,5,6],\n",
    "        [5,5,5]\n",
    "    ]\n",
    "])\n",
    "print(arr3[0,1,2]) "
   ]
  },
  {
   "cell_type": "code",
   "execution_count": 65,
   "metadata": {},
   "outputs": [
    {
     "name": "stdout",
     "output_type": "stream",
     "text": [
      "0\n",
      "1\n",
      "2\n",
      "3\n"
     ]
    }
   ],
   "source": [
    "#iteration\n",
    "arr= np.array([0,1,2,3])\n",
    "for ele in arr:\n",
    "    print(ele)\n"
   ]
  },
  {
   "cell_type": "code",
   "execution_count": 66,
   "metadata": {},
   "outputs": [
    {
     "name": "stdout",
     "output_type": "stream",
     "text": [
      "[1 2 3]\n",
      "[4 5 6]\n"
     ]
    }
   ],
   "source": [
    "arr2=np.array(\n",
    "    [\n",
    "    [1,2,3],[4,5,6]\n",
    "]\n",
    ")\n",
    "for val in arr2:\n",
    "    print(val)\n",
    "    \n",
    "#each for loop reduce 1D array"
   ]
  },
  {
   "cell_type": "code",
   "execution_count": 67,
   "metadata": {},
   "outputs": [
    {
     "name": "stdout",
     "output_type": "stream",
     "text": [
      "1\n",
      "2\n",
      "3\n",
      "4\n",
      "5\n",
      "6\n"
     ]
    }
   ],
   "source": [
    "arr2=np.array(\n",
    "    [\n",
    "    [1,2,3],[4,5,6]\n",
    "]\n",
    ")\n",
    "for val in arr2:\n",
    "    for val2 in val:\n",
    "        print(val2)"
   ]
  },
  {
   "cell_type": "code",
   "execution_count": 70,
   "metadata": {},
   "outputs": [
    {
     "name": "stdout",
     "output_type": "stream",
     "text": [
      "1\n",
      "2\n",
      "3\n",
      "4\n",
      "5\n",
      "6\n"
     ]
    }
   ],
   "source": [
    "arr2=np.array(\n",
    "    [\n",
    "    [1,2,3],[4,5,6]\n",
    "]\n",
    ")\n",
    "for val in np.nditer(arr2):\n",
    "    print(val)\n",
    "    \n",
    "#nditer reduce multi D staright into 1D\n"
   ]
  },
  {
   "cell_type": "code",
   "execution_count": 74,
   "metadata": {},
   "outputs": [
    {
     "name": "stdout",
     "output_type": "stream",
     "text": [
      "b'1'\n",
      "b'2'\n",
      "b'3'\n",
      "b'4'\n",
      "b'5'\n",
      "b'6'\n"
     ]
    }
   ],
   "source": [
    "arr2=np.array(\n",
    "    [\n",
    "    [1,2,3],[4,5,6]\n",
    "]\n",
    ")\n",
    "for val in np.nditer(arr2,flags=[\"buffered\"],op_dtypes=[\"S\"]):\n",
    "    print(val)\n",
    " #op_dtypes =>helps chnging data type of element while for loop running\n",
    "#flags=['buffered'] is \"buffer\" using for data type conversion"
   ]
  },
  {
   "cell_type": "code",
   "execution_count": 85,
   "metadata": {},
   "outputs": [
    {
     "name": "stdout",
     "output_type": "stream",
     "text": [
      "1\n",
      "2\n",
      "3\n",
      "4\n",
      "5\n",
      "6\n",
      "####\n",
      "1\n",
      "3\n",
      "4\n",
      "6\n"
     ]
    }
   ],
   "source": [
    "arr2=np.array(\n",
    "    [\n",
    "    [1,2,3],[4,5,6]\n",
    "]\n",
    ")\n",
    "for val in np.nditer(arr2[:2]):\n",
    "    print(val)\n",
    "print(\"####\")\n",
    "    \n",
    "for val in np.nditer(arr2[:2,::2]):\n",
    "    print(val)   \n",
    "#slicing "
   ]
  },
  {
   "cell_type": "code",
   "execution_count": 88,
   "metadata": {},
   "outputs": [
    {
     "name": "stdout",
     "output_type": "stream",
     "text": [
      "(0, 0) 1\n",
      "(0, 1) 2\n",
      "(0, 2) 3\n",
      "(1, 0) 4\n",
      "(1, 1) 5\n",
      "(1, 2) 6\n"
     ]
    }
   ],
   "source": [
    "arr2=np.array(\n",
    "    [\n",
    "    [1,2,3],[4,5,6]\n",
    "]\n",
    ")\n",
    "for id, val in np.ndenumerate(arr2):\n",
    "    print(id,val)\n",
    "#enumerate prints seq of array"
   ]
  },
  {
   "cell_type": "code",
   "execution_count": 95,
   "metadata": {},
   "outputs": [
    {
     "name": "stdout",
     "output_type": "stream",
     "text": [
      "[1 2 3 4 5 7 8 9 6 0]\n"
     ]
    }
   ],
   "source": [
    "arr1=np .array([1,2,3,4,5])\n",
    "arr2=np .array([7,8,9,6,0])\n",
    "joined=np.concatenate((arr1, arr2))\n",
    "print(joined)"
   ]
  },
  {
   "cell_type": "code",
   "execution_count": 98,
   "metadata": {},
   "outputs": [
    {
     "name": "stdout",
     "output_type": "stream",
     "text": [
      "[[1 2 5 6]\n",
      " [3 4 7 8]]\n"
     ]
    }
   ],
   "source": [
    "arr1 = np.array([[1, 2], [3, 4]])\n",
    "\n",
    "arr2 = np.array([[5, 6], [7, 8]])\n",
    "\n",
    "arr = np.concatenate((arr1, arr2), axis=1)\n",
    "\n",
    "print(arr)"
   ]
  },
  {
   "cell_type": "code",
   "execution_count": 107,
   "metadata": {},
   "outputs": [
    {
     "name": "stdout",
     "output_type": "stream",
     "text": [
      "[[[1 2]\n",
      "  [5 6]]\n",
      "\n",
      " [[3 4]\n",
      "  [7 8]]] stack\n",
      "[[1 2 5 6]\n",
      " [3 4 7 8]] hprizontal\n",
      "[[1 2]\n",
      " [3 4]\n",
      " [5 6]\n",
      " [7 8]] vertical\n",
      "[[[1 5]\n",
      "  [2 6]]\n",
      "\n",
      " [[3 7]\n",
      "  [4 8]]] depth\n"
     ]
    }
   ],
   "source": [
    "arr1 = np.array([[1, 2], [3, 4]])\n",
    "\n",
    "arr2 = np.array([[5, 6], [7, 8]])\n",
    "arr = np.stack((arr1, arr2), axis=1)\n",
    "#horizontal\n",
    "hor = np.hstack((arr1, arr2))\n",
    "#vertical \n",
    "ver = np.vstack((arr1, arr2))\n",
    "#depth \n",
    "depth = np.dstack((arr1, arr2))\n",
    "\n",
    "\n",
    "print(arr,\"stack\")\n",
    "print(hor,\"hprizontal\")\n",
    "print(ver,\"vertical\")\n",
    "print(depth,\"depth\")"
   ]
  },
  {
   "cell_type": "code",
   "execution_count": 109,
   "metadata": {},
   "outputs": [
    {
     "name": "stdout",
     "output_type": "stream",
     "text": [
      "[array([0, 1]), array([2, 3]), array([5])]\n"
     ]
    }
   ],
   "source": [
    "#split\n",
    "#array_split\n",
    "arr=np.array([0,1,2,3,5])\n",
    "new=np.array_split(arr,3)#3=> parts\n",
    "print(new)"
   ]
  },
  {
   "cell_type": "code",
   "execution_count": 110,
   "metadata": {},
   "outputs": [
    {
     "name": "stdout",
     "output_type": "stream",
     "text": [
      "[array([[1, 2],\n",
      "       [3, 4]]), array([[5, 6],\n",
      "       [7, 8]]), array([[ 9, 10],\n",
      "       [11, 12]])]\n"
     ]
    }
   ],
   "source": [
    "arr = np.array([[1, 2], [3, 4], [5, 6], [7, 8], [9, 10], [11, 12]])\n",
    "new=np.array_split(arr,3)#3=> parts\n",
    "print(new)"
   ]
  },
  {
   "cell_type": "code",
   "execution_count": 6,
   "metadata": {},
   "outputs": [
    {
     "name": "stdout",
     "output_type": "stream",
     "text": [
      "(array([4], dtype=int64),)\n",
      "@@@\n",
      "(array([1, 3], dtype=int64),)\n"
     ]
    }
   ],
   "source": [
    "#searching\n",
    "arr=np.array([1,2,3,4,5])\n",
    "x=np.where(arr== 5)\n",
    "y=np.where(arr%2 ==0)\n",
    "print(x)\n",
    "print(\"@@@\")\n",
    "print(y)"
   ]
  },
  {
   "cell_type": "code",
   "execution_count": 14,
   "metadata": {},
   "outputs": [
    {
     "name": "stdout",
     "output_type": "stream",
     "text": [
      "5\n",
      "@@@\n",
      "5\n"
     ]
    }
   ],
   "source": [
    "#searched sort\n",
    "arr=np.array([7,5,6,9,2])\n",
    "x=np.searchsorted(arr,9)\n",
    "y=np.searchsorted(arr,6,side=\"right\")\n",
    "print(x)#print index\n",
    "print(\"@@@\")\n",
    "print(y)"
   ]
  },
  {
   "cell_type": "code",
   "execution_count": 15,
   "metadata": {},
   "outputs": [
    {
     "name": "stdout",
     "output_type": "stream",
     "text": [
      "[2 5 6 7 9]\n"
     ]
    }
   ],
   "source": [
    "#sorting\n",
    "arr=np.array([7,5,6,9,2])\n",
    "print(np.sort(arr))"
   ]
  },
  {
   "cell_type": "code",
   "execution_count": 18,
   "metadata": {},
   "outputs": [
    {
     "name": "stdout",
     "output_type": "stream",
     "text": [
      "[[5 6 9]\n",
      " [2 3 5]]\n"
     ]
    }
   ],
   "source": [
    "arr2=np.array(\n",
    "    [\n",
    "        [9,5,6],\n",
    "    [5,2,3]\n",
    "]\n",
    ")\n",
    "print(np.sort(arr2))"
   ]
  },
  {
   "cell_type": "code",
   "execution_count": 23,
   "metadata": {},
   "outputs": [
    {
     "name": "stdout",
     "output_type": "stream",
     "text": [
      "[1 5 7 9]\n"
     ]
    }
   ],
   "source": [
    "#filler\n",
    "arr=np.array([1,2,5,7,8,9,10])\n",
    "fil=arr%2==1\n",
    "new=arr[fil]\n",
    "print(new)\n"
   ]
  },
  {
   "cell_type": "code",
   "execution_count": 26,
   "metadata": {},
   "outputs": [],
   "source": [
    "from numpy import random "
   ]
  },
  {
   "cell_type": "code",
   "execution_count": 29,
   "metadata": {},
   "outputs": [
    {
     "name": "stdout",
     "output_type": "stream",
     "text": [
      "[85 96 87 61 35]\n"
     ]
    }
   ],
   "source": [
    "x = random.randint(100,size=(5))\n",
    "\n",
    "print(x)\n"
   ]
  },
  {
   "cell_type": "code",
   "execution_count": 30,
   "metadata": {},
   "outputs": [
    {
     "name": "stdout",
     "output_type": "stream",
     "text": [
      "[[48 10 58  9 41]\n",
      " [ 9 90 99 25 35]\n",
      " [41 52 32 41 44]\n",
      " [14 42 86 57 19]\n",
      " [66 83 50 40  1]]\n"
     ]
    }
   ],
   "source": [
    "x = random.randint(100,size=(5,5))\n",
    "print(x)"
   ]
  },
  {
   "cell_type": "code",
   "execution_count": 36,
   "metadata": {},
   "outputs": [
    {
     "name": "stdout",
     "output_type": "stream",
     "text": [
      "5555555\n"
     ]
    }
   ],
   "source": [
    "y= random.choice([5,55,555,5555,5555555])\n",
    "print(y)\n"
   ]
  },
  {
   "cell_type": "code",
   "execution_count": 42,
   "metadata": {},
   "outputs": [
    {
     "name": "stdout",
     "output_type": "stream",
     "text": [
      "[1 4 6 3 5 2]\n"
     ]
    }
   ],
   "source": [
    "#shuffle\n",
    "x = np.array([1,2,3,4,5,6])\n",
    "random.shuffle(x)\n",
    "print(x)"
   ]
  },
  {
   "cell_type": "code",
   "execution_count": 43,
   "metadata": {},
   "outputs": [
    {
     "name": "stdout",
     "output_type": "stream",
     "text": [
      "[3 1 2 4 5]\n"
     ]
    }
   ],
   "source": [
    "\n",
    "arr = np.array([1, 2, 3, 4, 5])\n",
    "\n",
    "print(random.permutation(arr))\n"
   ]
  },
  {
   "cell_type": "code",
   "execution_count": 41,
   "metadata": {},
   "outputs": [
    {
     "name": "stdout",
     "output_type": "stream",
     "text": [
      "Requirement already satisfied: seaborn in c:\\users\\abul smarty\\anaconda3\\lib\\site-packages (0.9.0)\n",
      "Requirement already satisfied: matplotlib>=1.4.3 in c:\\users\\abul smarty\\anaconda3\\lib\\site-packages (from seaborn) (3.1.0)\n",
      "Requirement already satisfied: scipy>=0.14.0 in c:\\users\\abul smarty\\anaconda3\\lib\\site-packages (from seaborn) (1.2.1)\n",
      "Requirement already satisfied: pandas>=0.15.2 in c:\\users\\abul smarty\\anaconda3\\lib\\site-packages (from seaborn) (0.25.1)\n",
      "Requirement already satisfied: numpy>=1.9.3 in c:\\users\\abul smarty\\anaconda3\\lib\\site-packages (from seaborn) (1.16.4)\n",
      "Requirement already satisfied: cycler>=0.10 in c:\\users\\abul smarty\\anaconda3\\lib\\site-packages (from matplotlib>=1.4.3->seaborn) (0.10.0)\n",
      "Requirement already satisfied: kiwisolver>=1.0.1 in c:\\users\\abul smarty\\anaconda3\\lib\\site-packages (from matplotlib>=1.4.3->seaborn) (1.1.0)\n",
      "Requirement already satisfied: pyparsing!=2.0.4,!=2.1.2,!=2.1.6,>=2.0.1 in c:\\users\\abul smarty\\anaconda3\\lib\\site-packages (from matplotlib>=1.4.3->seaborn) (2.4.0)\n",
      "Requirement already satisfied: python-dateutil>=2.1 in c:\\users\\abul smarty\\anaconda3\\lib\\site-packages (from matplotlib>=1.4.3->seaborn) (2.8.0)\n",
      "Requirement already satisfied: pytz>=2017.2 in c:\\users\\abul smarty\\anaconda3\\lib\\site-packages (from pandas>=0.15.2->seaborn) (2019.1)\n",
      "Requirement already satisfied: six in c:\\users\\abul smarty\\anaconda3\\lib\\site-packages (from cycler>=0.10->matplotlib>=1.4.3->seaborn) (1.12.0)\n",
      "Requirement already satisfied: setuptools in c:\\users\\abul smarty\\anaconda3\\lib\\site-packages (from kiwisolver>=1.0.1->matplotlib>=1.4.3->seaborn) (41.0.1)\n"
     ]
    }
   ],
   "source": [
    "!pip install seaborn"
   ]
  },
  {
   "cell_type": "code",
   "execution_count": 45,
   "metadata": {},
   "outputs": [],
   "source": [
    "import matplotlib.pyplot as plt\n",
    "import seaborn as sns"
   ]
  },
  {
   "cell_type": "code",
   "execution_count": 48,
   "metadata": {},
   "outputs": [
    {
     "data": {
      "image/png": "[encoded data removed]",
      "text/plain": [
       "<Figure size 432x288 with 1 Axes>"
      ]
     },
     "metadata": {
      "needs_background": "light"
     },
     "output_type": "display_data"
    }
   ],
   "source": [
    "sns.distplot([1,2,3,5,7,9])\n",
    "plt.show()"
   ]
  },
  {
   "cell_type": "code",
   "execution_count": 49,
   "metadata": {},
   "outputs": [
    {
     "data": {
      "image/png": "[encoded data removed]",
      "text/plain": [
       "<Figure size 432x288 with 1 Axes>"
      ]
     },
     "metadata": {
      "needs_background": "light"
     },
     "output_type": "display_data"
    }
   ],
   "source": [
    "sns.distplot([1,3,5,7,9],hist =False)\n",
    "plt.show()"
   ]
  },
  {
   "cell_type": "code",
   "execution_count": 59,
   "metadata": {},
   "outputs": [
    {
     "data": {
      "image/png": "[encoded data removed]",
      "text/plain": [
       "<Figure size 432x288 with 1 Axes>"
      ]
     },
     "metadata": {
      "needs_background": "light"
     },
     "output_type": "display_data"
    }
   ],
   "source": [
    "sns.distplot(random.binomial(n=10,p=.5,size=1000),hist =True,kde=False)\n",
    "plt.show()"
   ]
  },
  {
   "cell_type": "code",
   "execution_count": 65,
   "metadata": {},
   "outputs": [
    {
     "data": {
      "image/png": "[encoded data removed]",
      "text/plain": [
       "<Figure size 432x288 with 1 Axes>"
      ]
     },
     "metadata": {
      "needs_background": "light"
     },
     "output_type": "display_data"
    }
   ],
   "source": [
    "sns.distplot(random.normal(loc=10,scale=5,size=100),hist=False, label=\"normal\")\n",
    "sns.distplot(random.binomial(n=10,p=0.5,size=100),hist=False, label=\"binomial\")\n",
    "plt.show()"
   ]
  },
  {
   "cell_type": "code",
   "execution_count": 68,
   "metadata": {},
   "outputs": [
    {
     "name": "stdout",
     "output_type": "stream",
     "text": [
      "[13 13]\n"
     ]
    }
   ],
   "source": [
    "#Poisson Distribution is a Discrete Distribution.\n",
    "\n",
    "x=random.poisson(lam=10,size=2)\n",
    "print(x)"
   ]
  },
  {
   "cell_type": "code",
   "execution_count": 69,
   "metadata": {},
   "outputs": [
    {
     "data": {
      "image/png": "[encoded data removed]",
      "text/plain": [
       "<Figure size 432x288 with 1 Axes>"
      ]
     },
     "metadata": {
      "needs_background": "light"
     },
     "output_type": "display_data"
    }
   ],
   "source": [
    "sns.distplot(random.poisson(lam=10,size=2))#lam =>occurance size=>array size\n",
    "plt.show()"
   ]
  },
  {
   "cell_type": "code",
   "execution_count": 71,
   "metadata": {},
   "outputs": [
    {
     "data": {
      "image/png": "[encoded data removed]",
      "text/plain": [
       "<Figure size 432x288 with 1 Axes>"
      ]
     },
     "metadata": {
      "needs_background": "light"
     },
     "output_type": "display_data"
    }
   ],
   "source": [
    "sns.distplot(random.normal(loc=10,scale=5,size=100),hist=False, label=\"normal\")\n",
    "\n",
    "sns.distplot(random.binomial(n=100,p=0.5,size=1000),hist =False,label=\"binomial\")\n",
    "sns.distplot(random.poisson(lam=10,size=100),hist=False, label=\"poisson\")\n",
    "plt.show()"
   ]
  },
  {
   "cell_type": "code",
   "execution_count": 74,
   "metadata": {},
   "outputs": [
    {
     "name": "stdout",
     "output_type": "stream",
     "text": [
      "[[0.61535825 0.16169322 0.13076436]\n",
      " [0.56416018 0.99018523 0.54761984]]\n"
     ]
    }
   ],
   "source": [
    "#uniform distribution\n",
    "x=random.uniform(size=(2,3))\n",
    "print(x)\n",
    "#probability where every event has equal chances of occuring.\n",
    "\n",
    "#E.g. Generation of random numbers."
   ]
  },
  {
   "cell_type": "code",
   "execution_count": 83,
   "metadata": {},
   "outputs": [
    {
     "data": {
      "image/png": "[encoded data removed]",
      "text/plain": [
       "<Figure size 432x288 with 1 Axes>"
      ]
     },
     "metadata": {
      "needs_background": "light"
     },
     "output_type": "display_data"
    }
   ],
   "source": [
    "sns.distplot(random.uniform(size=100),hist=True)\n",
    "plt.show()"
   ]
  },
  {
   "cell_type": "code",
   "execution_count": 86,
   "metadata": {},
   "outputs": [
    {
     "name": "stdout",
     "output_type": "stream",
     "text": [
      "[[ 5.30011125  1.54316383  3.10561296]\n",
      " [ 3.26882562 -2.67600898 -0.05611774]]\n"
     ]
    }
   ],
   "source": [
    "#logic distribution \n",
    "#growth \n",
    "\n",
    "x=random.logistic(loc=1,scale=2,size=(2,3))\n",
    "#loc=>mean\n",
    "#scale=>standard deviation\n",
    "print(x)"
   ]
  },
  {
   "cell_type": "code",
   "execution_count": 87,
   "metadata": {},
   "outputs": [],
   "source": [
    "#elements are increasing/decreasing"
   ]
  },
  {
   "cell_type": "code",
   "execution_count": 92,
   "metadata": {},
   "outputs": [
    {
     "data": {
      "image/png": "[encoded data removed]",
      "text/plain": [
       "<Figure size 432x288 with 1 Axes>"
      ]
     },
     "metadata": {
      "needs_background": "light"
     },
     "output_type": "display_data"
    }
   ],
   "source": [
    "sns.distplot(random.logistic(size=10),hist=False)\n",
    "plt.show()"
   ]
  },
  {
   "cell_type": "code",
   "execution_count": 94,
   "metadata": {},
   "outputs": [
    {
     "data": {
      "image/png": "[encoded data removed]",
      "text/plain": [
       "<Figure size 432x288 with 1 Axes>"
      ]
     },
     "metadata": {
      "needs_background": "light"
     },
     "output_type": "display_data"
    }
   ],
   "source": [
    "sns.distplot(random.normal(scale=2,size=1000),hist=False,label=\"normal\")\n",
    "sns.distplot(random.logistic(size=1000),hist=False,label=\"Logic\")\n",
    "plt.show()"
   ]
  },
  {
   "cell_type": "code",
   "execution_count": 96,
   "metadata": {},
   "outputs": [
    {
     "name": "stdout",
     "output_type": "stream",
     "text": [
      "[0 2 0 1 2 1]\n"
     ]
    }
   ],
   "source": [
    "#multinomial\n",
    "#porabability\n",
    "x=random.multinomial(n=6,pvals=[1/6,1/6,1/6,1/6,1/6,1/6])\n",
    "#n=total outcomes\n",
    "#pvals=possible outcome values\n",
    "print(x)"
   ]
  },
  {
   "cell_type": "code",
   "execution_count": 104,
   "metadata": {},
   "outputs": [
    {
     "data": {
      "text/plain": [
       "<matplotlib.axes._subplots.AxesSubplot at 0x1bc658caac8>"
      ]
     },
     "execution_count": 104,
     "metadata": {},
     "output_type": "execute_result"
    },
    {
     "data": {
      "image/png": "[encoded data removed]",
      "text/plain": [
       "<Figure size 432x288 with 1 Axes>"
      ]
     },
     "metadata": {
      "needs_background": "light"
     },
     "output_type": "display_data"
    }
   ],
   "source": [
    "sns.distplot(random.exponential(size=1000),hist=False)\n",
    "#plt.show()"
   ]
  },
  {
   "cell_type": "code",
   "execution_count": 105,
   "metadata": {},
   "outputs": [
    {
     "name": "stdout",
     "output_type": "stream",
     "text": [
      "[[0.08862086 0.09807726 2.58848287]\n",
      " [1.1334791  2.19933969 0.85677218]]\n"
     ]
    }
   ],
   "source": [
    "#chi square\n",
    "#to verify hypothesis\n",
    "x=random.chisquare(df=1,size=(2,3))\n",
    "#df =>> degree of freedom\n",
    "print(x)"
   ]
  },
  {
   "cell_type": "code",
   "execution_count": 106,
   "metadata": {},
   "outputs": [
    {
     "data": {
      "text/plain": [
       "<matplotlib.axes._subplots.AxesSubplot at 0x1bc658094e0>"
      ]
     },
     "execution_count": 106,
     "metadata": {},
     "output_type": "execute_result"
    },
    {
     "data": {
      "image/png": "[encoded data removed]",
      "text/plain": [
       "<Figure size 432x288 with 1 Axes>"
      ]
     },
     "metadata": {
      "needs_background": "light"
     },
     "output_type": "display_data"
    }
   ],
   "source": [
    "sns.distplot(random.chisquare(df=2,size=100),hist=False)"
   ]
  },
  {
   "cell_type": "code",
   "execution_count": 107,
   "metadata": {},
   "outputs": [
    {
     "name": "stdout",
     "output_type": "stream",
     "text": [
      "[[3.10848363 2.67302506 2.42571482]\n",
      " [2.79544838 2.65825231 5.35733579]]\n"
     ]
    }
   ],
   "source": [
    "#rayleigh\n",
    "#signal processing\n",
    "x=random.rayleigh(scale=2,size=(2,3))\n",
    "#scale=standard deviation\n",
    "print(x)"
   ]
  },
  {
   "cell_type": "code",
   "execution_count": 108,
   "metadata": {},
   "outputs": [
    {
     "data": {
      "text/plain": [
       "<matplotlib.axes._subplots.AxesSubplot at 0x1bc65a3f978>"
      ]
     },
     "execution_count": 108,
     "metadata": {},
     "output_type": "execute_result"
    },
    {
     "data": {
      "image/png": "[encoded data removed]",
      "text/plain": [
       "<Figure size 432x288 with 1 Axes>"
      ]
     },
     "metadata": {
      "needs_background": "light"
     },
     "output_type": "display_data"
    }
   ],
   "source": [
    "sns.distplot(random.rayleigh(size=100),hist=False)\n",
    "\n",
    "#print(x)"
   ]
  },
  {
   "cell_type": "code",
   "execution_count": 111,
   "metadata": {},
   "outputs": [
    {
     "name": "stdout",
     "output_type": "stream",
     "text": [
      "[[1.01844456 0.22077017 0.78091093]\n",
      " [0.39987215 0.03433989 0.72474437]]\n"
     ]
    }
   ],
   "source": [
    "#Pareto's law i.e. 80-20 distributio\n",
    "x=random.pareto(a=3,size=(2,3))\n",
    "print(x)"
   ]
  },
  {
   "cell_type": "code",
   "execution_count": 112,
   "metadata": {},
   "outputs": [
    {
     "data": {
      "text/plain": [
       "<matplotlib.axes._subplots.AxesSubplot at 0x1bc658fd588>"
      ]
     },
     "execution_count": 112,
     "metadata": {},
     "output_type": "execute_result"
    },
    {
     "data": {
      "image/png": "[encoded data removed]",
      "text/plain": [
       "<Figure size 432x288 with 1 Axes>"
      ]
     },
     "metadata": {
      "needs_background": "light"
     },
     "output_type": "display_data"
    }
   ],
   "source": [
    "sns.distplot(random.pareto(a=2,size=100),kde=False)\n"
   ]
  },
  {
   "cell_type": "code",
   "execution_count": 113,
   "metadata": {},
   "outputs": [
    {
     "name": "stdout",
     "output_type": "stream",
     "text": [
      "[[ 8  1  1]\n",
      " [ 9 14  2]]\n"
     ]
    }
   ],
   "source": [
    "#Zipf's Law: In a collection the nth common term is 1/n times of the most common term. \n",
    "#E.g. 5th common word in english has occurs nearly 1/5th times as of the most used word.\n",
    "x=random.zipf(a=2,size=(2,3))\n",
    "print(x)\n",
    "#a =>>> dis  parameter"
   ]
  },
  {
   "cell_type": "code",
   "execution_count": 116,
   "metadata": {},
   "outputs": [
    {
     "data": {
      "text/plain": [
       "<matplotlib.axes._subplots.AxesSubplot at 0x1bc65539390>"
      ]
     },
     "execution_count": 116,
     "metadata": {},
     "output_type": "execute_result"
    },
    {
     "data": {
      "image/png": "[encoded data removed]",
      "text/plain": [
       "<Figure size 432x288 with 1 Axes>"
      ]
     },
     "metadata": {
      "needs_background": "light"
     },
     "output_type": "display_data"
    }
   ],
   "source": [
    "x=random.zipf(a=2,size=100)\n",
    "sns.distplot(x[x<10],kde=False)"
   ]
  },
  {
   "cell_type": "code",
   "execution_count": 117,
   "metadata": {},
   "outputs": [
    {
     "name": "stdout",
     "output_type": "stream",
     "text": [
      "[ 5  7  9 11]\n"
     ]
    }
   ],
   "source": [
    "x = [1, 2, 3, 4]\n",
    "y = [4, 5, 6, 7]\n",
    "z = np.add(x, y)\n",
    "\n",
    "print(z)"
   ]
  },
  {
   "cell_type": "code",
   "execution_count": 125,
   "metadata": {},
   "outputs": [
    {
     "name": "stdout",
     "output_type": "stream",
     "text": [
      "[15 30 45 60 75] add [ 5 10 15 20 25] sub [  50  200  450  800 1250] * [2. 2. 2. 2. 2.] divi [0 0 0 0 0] reminder [     100000   797966336 -2080931840           0 -1308622848] power (array([2, 2, 2, 2, 2], dtype=int32), array([0, 0, 0, 0, 0], dtype=int32)) 00 [0 0 0 0 0]\n"
     ]
    }
   ],
   "source": [
    "arr1=np.array([10,20,30,40,50])\n",
    "arr2=np.array([5,10,15,20,25])\n",
    "ad=np.add(arr1,arr2)\n",
    "sub=np.subtract(arr1,arr2)\n",
    "mul=np.multiply(arr1,arr2)\n",
    "d=np.divide(arr1,arr2)\n",
    "mod=np.mod(arr1,arr2)\n",
    "power=np.power(arr1,arr2)\n",
    "dm=np.divmod(arr1,arr2)\n",
    "rem=np.remainder(arr1,arr2)\n",
    "#absolute =>neg to posi\n",
    "\n",
    "print(ad,\"add\",sub,\"sub\",mul,\"*\",d,\"divi\",mod,\"reminder\",power,\"power\",dm,\"00\",rem)\n"
   ]
  },
  {
   "cell_type": "code",
   "execution_count": 130,
   "metadata": {},
   "outputs": [
    {
     "data": {
      "text/plain": [
       "array([-3., -1.])"
      ]
     },
     "execution_count": 130,
     "metadata": {},
     "output_type": "execute_result"
    }
   ],
   "source": [
    "#fix\n",
    "#ceil\n",
    "#around\n",
    "#floor\n",
    "np.fix([-3.554,-1.222])\n"
   ]
  },
  {
   "cell_type": "code",
   "execution_count": 131,
   "metadata": {},
   "outputs": [
    {
     "data": {
      "text/plain": [
       "array([-3.,  2.])"
      ]
     },
     "execution_count": 131,
     "metadata": {},
     "output_type": "execute_result"
    }
   ],
   "source": [
    "np.ceil([-3.554,1.222])"
   ]
  },
  {
   "cell_type": "code",
   "execution_count": 132,
   "metadata": {},
   "outputs": [
    {
     "data": {
      "text/plain": [
       "array([1.22])"
      ]
     },
     "execution_count": 132,
     "metadata": {},
     "output_type": "execute_result"
    }
   ],
   "source": [
    "np.around([1.22222],2)"
   ]
  },
  {
   "cell_type": "code",
   "execution_count": null,
   "metadata": {},
   "outputs": [],
   "source": []
  }
 ],
 "metadata": {
  "kernelspec": {
   "display_name": "Python 3",
   "language": "python",
   "name": "python3"
  },
  "language_info": {
   "codemirror_mode": {
    "name": "ipython",
    "version": 3
   },
   "file_extension": ".py",
   "mimetype": "text/x-python",
   "name": "python",
   "nbconvert_exporter": "python",
   "pygments_lexer": "ipython3",
   "version": "3.7.3"
  }
 },
 "nbformat": 4,
 "nbformat_minor": 2
}
